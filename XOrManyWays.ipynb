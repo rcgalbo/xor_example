{
  "nbformat": 4,
  "nbformat_minor": 0,
  "metadata": {
    "colab": {
      "name": "XOrManyWays.ipynb",
      "provenance": [],
      "collapsed_sections": [
        "IXAYy_XPXdCM",
        "kOJxqg0rap-N",
        "AUMsWfykXkgp"
      ],
      "include_colab_link": true
    },
    "kernelspec": {
      "name": "python3",
      "display_name": "Python 3"
    }
  },
  "cells": [
    {
      "cell_type": "markdown",
      "metadata": {
        "id": "view-in-github",
        "colab_type": "text"
      },
      "source": [
        "<a href=\"https://colab.research.google.com/github/rgalbo/xor_example/blob/master/XOrManyWays.ipynb\" target=\"_parent\"><img src=\"https://colab.research.google.com/assets/colab-badge.svg\" alt=\"Open In Colab\"/></a>"
      ]
    },
    {
      "cell_type": "markdown",
      "metadata": {
        "id": "WhnqJ5Tz9HrQ",
        "colab_type": "text"
      },
      "source": [
        "xor many ways"
      ]
    },
    {
      "cell_type": "code",
      "metadata": {
        "id": "yO5jUr_25tfM",
        "colab_type": "code",
        "colab": {}
      },
      "source": [
        "import numpy as np\n",
        "# thaw your XOr\n",
        "n_samples = 10000\n",
        "n_samples = 10000 // 4 # only 4 unique examples\n",
        "x = np.array([[0., 0.], [0., 1.], [1., 0.], [1., 1.]] * n_samples)\n",
        "y = np.array([[1., 0.], [0., 1.], [0., 1.], [1., 0.]] * n_samples)"
      ],
      "execution_count": 0,
      "outputs": []
    },
    {
      "cell_type": "code",
      "metadata": {
        "id": "XGXGT5xLhKuE",
        "colab_type": "code",
        "outputId": "c73f3809-d7c1-40e9-e457-9dda9cca168a",
        "colab": {
          "base_uri": "https://localhost:8080/",
          "height": 34
        }
      },
      "source": [
        "print(f\"x shape: {x.shape}, y shape: {y.shape}\")"
      ],
      "execution_count": 2,
      "outputs": [
        {
          "output_type": "stream",
          "text": [
            "x shape: (10000, 2), y shape: (10000, 2)\n"
          ],
          "name": "stdout"
        }
      ]
    },
    {
      "cell_type": "markdown",
      "metadata": {
        "id": "IXAYy_XPXdCM",
        "colab_type": "text"
      },
      "source": [
        "### tensor flow / keras"
      ]
    },
    {
      "cell_type": "code",
      "metadata": {
        "id": "0K66HkSTTdTb",
        "colab_type": "code",
        "colab": {}
      },
      "source": [
        "# TensorFlow and tf.keras\n",
        "# adapted from the tensorflow 2.0 documentation example\n",
        "import tensorflow as tf\n",
        "from tensorflow import keras"
      ],
      "execution_count": 0,
      "outputs": []
    },
    {
      "cell_type": "code",
      "metadata": {
        "id": "T-_wYo5lV6fk",
        "colab_type": "code",
        "colab": {}
      },
      "source": [
        "model = keras.Sequential([\n",
        "    keras.layers.Input(shape=(2,)),\n",
        "    keras.layers.Dense(100, activation=tf.nn.sigmoid),\n",
        "    keras.layers.Dense(2, activation=tf.nn.sigmoid)\n",
        "])"
      ],
      "execution_count": 0,
      "outputs": []
    },
    {
      "cell_type": "code",
      "metadata": {
        "id": "cNR0Sj42WAsW",
        "colab_type": "code",
        "colab": {}
      },
      "source": [
        "model.compile(optimizer='adam',\n",
        "              loss='binary_crossentropy',\n",
        "              metrics=['accuracy'])"
      ],
      "execution_count": 0,
      "outputs": []
    },
    {
      "cell_type": "code",
      "metadata": {
        "id": "W5bz7AxFXwvi",
        "colab_type": "code",
        "outputId": "1e127883-7a5c-41c1-d31f-8151fa145e1a",
        "colab": {
          "base_uri": "https://localhost:8080/",
          "height": 749
        }
      },
      "source": [
        "model.fit(x, y, epochs=20)"
      ],
      "execution_count": 6,
      "outputs": [
        {
          "output_type": "stream",
          "text": [
            "Epoch 1/20\n",
            "313/313 [==============================] - 0s 1ms/step - loss: 0.6942 - accuracy: 0.4906\n",
            "Epoch 2/20\n",
            "313/313 [==============================] - 0s 1ms/step - loss: 0.6946 - accuracy: 0.5065\n",
            "Epoch 3/20\n",
            "313/313 [==============================] - 0s 1ms/step - loss: 0.6947 - accuracy: 0.4968\n",
            "Epoch 4/20\n",
            "313/313 [==============================] - 0s 1ms/step - loss: 0.6937 - accuracy: 0.5098\n",
            "Epoch 5/20\n",
            "313/313 [==============================] - 0s 1ms/step - loss: 0.6945 - accuracy: 0.5029\n",
            "Epoch 6/20\n",
            "313/313 [==============================] - 0s 1ms/step - loss: 0.6943 - accuracy: 0.4992\n",
            "Epoch 7/20\n",
            "313/313 [==============================] - 0s 1ms/step - loss: 0.6929 - accuracy: 0.4972\n",
            "Epoch 8/20\n",
            "313/313 [==============================] - 0s 1ms/step - loss: 0.6911 - accuracy: 0.5203\n",
            "Epoch 9/20\n",
            "313/313 [==============================] - 0s 1ms/step - loss: 0.6849 - accuracy: 0.5723\n",
            "Epoch 10/20\n",
            "313/313 [==============================] - 0s 1ms/step - loss: 0.6715 - accuracy: 0.6533\n",
            "Epoch 11/20\n",
            "313/313 [==============================] - 0s 1ms/step - loss: 0.6466 - accuracy: 0.7560\n",
            "Epoch 12/20\n",
            "313/313 [==============================] - 0s 1ms/step - loss: 0.6129 - accuracy: 0.8051\n",
            "Epoch 13/20\n",
            "313/313 [==============================] - 0s 1ms/step - loss: 0.5693 - accuracy: 0.8975\n",
            "Epoch 14/20\n",
            "313/313 [==============================] - 0s 1ms/step - loss: 0.5112 - accuracy: 0.9771\n",
            "Epoch 15/20\n",
            "313/313 [==============================] - 0s 1ms/step - loss: 0.4393 - accuracy: 1.0000\n",
            "Epoch 16/20\n",
            "313/313 [==============================] - 0s 1ms/step - loss: 0.3614 - accuracy: 1.0000\n",
            "Epoch 17/20\n",
            "313/313 [==============================] - 0s 1ms/step - loss: 0.2863 - accuracy: 1.0000\n",
            "Epoch 18/20\n",
            "313/313 [==============================] - 0s 1ms/step - loss: 0.2213 - accuracy: 1.0000\n",
            "Epoch 19/20\n",
            "313/313 [==============================] - 0s 1ms/step - loss: 0.1691 - accuracy: 1.0000\n",
            "Epoch 20/20\n",
            "313/313 [==============================] - 0s 1ms/step - loss: 0.1288 - accuracy: 1.0000\n"
          ],
          "name": "stdout"
        },
        {
          "output_type": "execute_result",
          "data": {
            "text/plain": [
              "<tensorflow.python.keras.callbacks.History at 0x7f86f681bef0>"
            ]
          },
          "metadata": {
            "tags": []
          },
          "execution_count": 6
        }
      ]
    },
    {
      "cell_type": "code",
      "metadata": {
        "id": "vNdhvJTbWCL2",
        "colab_type": "code",
        "outputId": "1d16c1aa-5c38-4c47-e0fd-6f84ce5745ff",
        "colab": {
          "base_uri": "https://localhost:8080/",
          "height": 72
        }
      },
      "source": [
        "test_loss, test_acc = model.evaluate(x, y)\n",
        "print(f'Test accuracy: {test_acc}')"
      ],
      "execution_count": 7,
      "outputs": [
        {
          "output_type": "stream",
          "text": [
            "313/313 [==============================] - 0s 992us/step - loss: 0.1120 - accuracy: 1.0000\n",
            "Test accuracy: 1.0\n"
          ],
          "name": "stdout"
        }
      ]
    },
    {
      "cell_type": "code",
      "metadata": {
        "id": "7lC-rhEAPFqT",
        "colab_type": "code",
        "outputId": "54b75dad-526c-4596-e6c5-4d1683fb6cfe",
        "colab": {
          "base_uri": "https://localhost:8080/",
          "height": 34
        }
      },
      "source": [
        "model.predict(np.array([[1., 0.]]))"
      ],
      "execution_count": 8,
      "outputs": [
        {
          "output_type": "execute_result",
          "data": {
            "text/plain": [
              "array([[0.10114145, 0.9003292 ]], dtype=float32)"
            ]
          },
          "metadata": {
            "tags": []
          },
          "execution_count": 8
        }
      ]
    },
    {
      "cell_type": "code",
      "metadata": {
        "id": "8JPb7AnHHLvf",
        "colab_type": "code",
        "colab": {
          "base_uri": "https://localhost:8080/",
          "height": 34
        },
        "outputId": "2edfd085-5f1f-4fd0-c1ba-7e211706b4ef"
      },
      "source": [
        "model.predict(np.array([[1., 1.]]))"
      ],
      "execution_count": 9,
      "outputs": [
        {
          "output_type": "execute_result",
          "data": {
            "text/plain": [
              "array([[0.8622752 , 0.13627969]], dtype=float32)"
            ]
          },
          "metadata": {
            "tags": []
          },
          "execution_count": 9
        }
      ]
    },
    {
      "cell_type": "markdown",
      "metadata": {
        "id": "kOJxqg0rap-N",
        "colab_type": "text"
      },
      "source": [
        "### pytorch"
      ]
    },
    {
      "cell_type": "code",
      "metadata": {
        "id": "8Z0neYV5dF-G",
        "colab_type": "code",
        "colab": {}
      },
      "source": [
        "# adapted from pytorch documentation example\n",
        "import torch\n",
        "import torch.utils.data as utils\n",
        "\n",
        "# transform to torch tensors\n",
        "tensor_x = torch.stack([torch.Tensor(i) for i in x]) \n",
        "tensor_y = torch.stack([torch.Tensor(i) for i in y])"
      ],
      "execution_count": 0,
      "outputs": []
    },
    {
      "cell_type": "code",
      "metadata": {
        "id": "ZVhgey5Dasl_",
        "colab_type": "code",
        "outputId": "9ea392c5-a490-421c-c5fc-38dbf6f7d55a",
        "colab": {
          "base_uri": "https://localhost:8080/",
          "height": 191
        }
      },
      "source": [
        "# N is batch size \n",
        "# D_in is input dimension\n",
        "# H is hidden dimension\n",
        "# D_out is output dimension\n",
        "N, D_in, H, D_out = 100, 2, 100, 2\n",
        "\n",
        "model = torch.nn.Sequential(\n",
        "    torch.nn.Linear(D_in, H),\n",
        "    torch.nn.ReLU(),\n",
        "    torch.nn.Linear(H, D_out),\n",
        "    torch.nn.Sigmoid()\n",
        ")\n",
        "\n",
        "loss_fn = torch.nn.BCELoss(reduction='mean')\n",
        "\n",
        "learning_rate = 1e-2\n",
        "for t in range(5000):\n",
        "    y_pred = model(tensor_x)\n",
        "    loss = loss_fn(y_pred, tensor_y)\n",
        "    if t % 500 == 99:\n",
        "        print(t, loss.item())\n",
        "\n",
        "    model.zero_grad()\n",
        "    loss.backward()\n",
        "\n",
        "    with torch.no_grad():\n",
        "        for param in model.parameters():\n",
        "            param -= learning_rate * param.grad"
      ],
      "execution_count": 11,
      "outputs": [
        {
          "output_type": "stream",
          "text": [
            "99 0.6584758162498474\n",
            "599 0.5447440147399902\n",
            "1099 0.4275079667568207\n",
            "1599 0.3162926435470581\n",
            "2099 0.22739599645137787\n",
            "2599 0.16490991413593292\n",
            "3099 0.12257596105337143\n",
            "3599 0.09389626979827881\n",
            "4099 0.07418420165777206\n",
            "4599 0.06015053018927574\n"
          ],
          "name": "stdout"
        }
      ]
    },
    {
      "cell_type": "code",
      "metadata": {
        "id": "MG5iQ3UCBKPK",
        "colab_type": "code",
        "outputId": "d3e46aee-d2f6-4dfb-9932-b7c5975a987a",
        "colab": {
          "base_uri": "https://localhost:8080/",
          "height": 34
        }
      },
      "source": [
        "model(torch.tensor([1.,0.]))"
      ],
      "execution_count": 12,
      "outputs": [
        {
          "output_type": "execute_result",
          "data": {
            "text/plain": [
              "tensor([0.0500, 0.9488], grad_fn=<SigmoidBackward>)"
            ]
          },
          "metadata": {
            "tags": []
          },
          "execution_count": 12
        }
      ]
    },
    {
      "cell_type": "code",
      "metadata": {
        "id": "UxyLVwG4arPf",
        "colab_type": "code",
        "outputId": "b44236f5-ef09-411a-a89d-c37d69b4f48a",
        "colab": {
          "base_uri": "https://localhost:8080/",
          "height": 34
        }
      },
      "source": [
        "model(torch.tensor([1.,1.]))"
      ],
      "execution_count": 13,
      "outputs": [
        {
          "output_type": "execute_result",
          "data": {
            "text/plain": [
              "tensor([0.9422, 0.0584], grad_fn=<SigmoidBackward>)"
            ]
          },
          "metadata": {
            "tags": []
          },
          "execution_count": 13
        }
      ]
    }
  ]
}