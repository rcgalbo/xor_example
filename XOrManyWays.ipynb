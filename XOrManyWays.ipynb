{
  "nbformat": 4,
  "nbformat_minor": 0,
  "metadata": {
    "colab": {
      "name": "XOrManyWays.ipynb",
      "provenance": [],
      "collapsed_sections": [
        "IXAYy_XPXdCM",
        "kOJxqg0rap-N",
        "AUMsWfykXkgp"
      ],
      "include_colab_link": true
    },
    "kernelspec": {
      "name": "python3",
      "display_name": "Python 3"
    }
  },
  "cells": [
    {
      "cell_type": "markdown",
      "metadata": {
        "id": "view-in-github",
        "colab_type": "text"
      },
      "source": [
        "<a href=\"https://colab.research.google.com/github/rgalbo/xor_example/blob/master/XOrManyWays.ipynb\" target=\"_parent\"><img src=\"https://colab.research.google.com/assets/colab-badge.svg\" alt=\"Open In Colab\"/></a>"
      ]
    },
    {
      "cell_type": "markdown",
      "metadata": {
        "id": "WhnqJ5Tz9HrQ",
        "colab_type": "text"
      },
      "source": [
        "xor many ways"
      ]
    },
    {
      "cell_type": "code",
      "metadata": {
        "id": "yO5jUr_25tfM",
        "colab_type": "code",
        "colab": {}
      },
      "source": [
        "import numpy as np\n",
        "# thaw your XOr\n",
        "n_samples = 10000\n",
        "n_samples = 10000 // 4 # only 4 unique examples\n",
        "x = np.array([[0., 0.], [0., 1.], [1., 0.], [1., 1.]] * n_samples)\n",
        "y = np.array([[1., 0.], [0., 1.], [0., 1.], [1., 0.]] * n_samples)"
      ],
      "execution_count": 0,
      "outputs": []
    },
    {
      "cell_type": "code",
      "metadata": {
        "id": "XGXGT5xLhKuE",
        "colab_type": "code",
        "outputId": "39238e8a-f8cc-428a-a217-3a13d0fb450b",
        "colab": {
          "base_uri": "https://localhost:8080/",
          "height": 35
        }
      },
      "source": [
        "print(f\"x shape: {x.shape}, y shape: {y.shape}\")"
      ],
      "execution_count": 0,
      "outputs": [
        {
          "output_type": "stream",
          "text": [
            "x shape: (10000, 2), y shape: (10000, 2)\n"
          ],
          "name": "stdout"
        }
      ]
    },
    {
      "cell_type": "markdown",
      "metadata": {
        "id": "IXAYy_XPXdCM",
        "colab_type": "text"
      },
      "source": [
        "### tensor flow / keras"
      ]
    },
    {
      "cell_type": "code",
      "metadata": {
        "id": "0K66HkSTTdTb",
        "colab_type": "code",
        "colab": {}
      },
      "source": [
        "# TensorFlow and tf.keras\n",
        "import tensorflow as tf\n",
        "from tensorflow import keras"
      ],
      "execution_count": 0,
      "outputs": []
    },
    {
      "cell_type": "code",
      "metadata": {
        "id": "T-_wYo5lV6fk",
        "colab_type": "code",
        "colab": {}
      },
      "source": [
        "model = keras.Sequential([\n",
        "    keras.layers.Input(shape=(2,)),\n",
        "    keras.layers.Dense(100, activation=tf.nn.sigmoid),\n",
        "    keras.layers.Dense(2, activation=tf.nn.sigmoid)\n",
        "])"
      ],
      "execution_count": 0,
      "outputs": []
    },
    {
      "cell_type": "code",
      "metadata": {
        "id": "cNR0Sj42WAsW",
        "colab_type": "code",
        "colab": {}
      },
      "source": [
        "model.compile(optimizer='adam',\n",
        "              loss='binary_crossentropy',\n",
        "              metrics=['accuracy'])"
      ],
      "execution_count": 0,
      "outputs": []
    },
    {
      "cell_type": "code",
      "metadata": {
        "id": "W5bz7AxFXwvi",
        "colab_type": "code",
        "outputId": "fcbd6383-1306-481b-e4ca-3cad7a35df30",
        "colab": {
          "base_uri": "https://localhost:8080/",
          "height": 788
        }
      },
      "source": [
        "model.fit(x, y, epochs=20)\n"
      ],
      "execution_count": 0,
      "outputs": [
        {
          "output_type": "stream",
          "text": [
            "Train on 10000 samples\n",
            "Epoch 1/20\n",
            "10000/10000 [==============================] - 1s 58us/sample - loss: 0.6937 - acc: 0.5116\n",
            "Epoch 2/20\n",
            "10000/10000 [==============================] - 1s 56us/sample - loss: 0.6924 - acc: 0.5088\n",
            "Epoch 3/20\n",
            "10000/10000 [==============================] - 1s 57us/sample - loss: 0.6863 - acc: 0.5862\n",
            "Epoch 4/20\n",
            "10000/10000 [==============================] - 1s 53us/sample - loss: 0.6683 - acc: 0.6564\n",
            "Epoch 5/20\n",
            "10000/10000 [==============================] - 1s 55us/sample - loss: 0.6324 - acc: 0.7247\n",
            "Epoch 6/20\n",
            "10000/10000 [==============================] - 1s 58us/sample - loss: 0.5771 - acc: 0.8119\n",
            "Epoch 7/20\n",
            "10000/10000 [==============================] - 1s 59us/sample - loss: 0.5090 - acc: 0.9119\n",
            "Epoch 8/20\n",
            "10000/10000 [==============================] - 1s 59us/sample - loss: 0.4327 - acc: 0.9962\n",
            "Epoch 9/20\n",
            "10000/10000 [==============================] - 1s 59us/sample - loss: 0.3574 - acc: 1.0000\n",
            "Epoch 10/20\n",
            "10000/10000 [==============================] - 1s 57us/sample - loss: 0.2876 - acc: 1.0000\n",
            "Epoch 11/20\n",
            "10000/10000 [==============================] - 1s 56us/sample - loss: 0.2279 - acc: 1.0000\n",
            "Epoch 12/20\n",
            "10000/10000 [==============================] - 1s 56us/sample - loss: 0.1789 - acc: 1.0000\n",
            "Epoch 13/20\n",
            "10000/10000 [==============================] - 1s 56us/sample - loss: 0.1400 - acc: 1.0000\n",
            "Epoch 14/20\n",
            "10000/10000 [==============================] - 1s 57us/sample - loss: 0.1096 - acc: 1.0000\n",
            "Epoch 15/20\n",
            "10000/10000 [==============================] - 1s 55us/sample - loss: 0.0861 - acc: 1.0000\n",
            "Epoch 16/20\n",
            "10000/10000 [==============================] - 1s 53us/sample - loss: 0.0679 - acc: 1.0000\n",
            "Epoch 17/20\n",
            "10000/10000 [==============================] - 1s 54us/sample - loss: 0.0538 - acc: 1.0000\n",
            "Epoch 18/20\n",
            "10000/10000 [==============================] - 1s 54us/sample - loss: 0.0428 - acc: 1.0000\n",
            "Epoch 19/20\n",
            "10000/10000 [==============================] - 1s 53us/sample - loss: 0.0341 - acc: 1.0000\n",
            "Epoch 20/20\n",
            "10000/10000 [==============================] - 1s 54us/sample - loss: 0.0273 - acc: 1.0000\n"
          ],
          "name": "stdout"
        },
        {
          "output_type": "execute_result",
          "data": {
            "text/plain": [
              "<tensorflow.python.keras.callbacks.History at 0x7f9c13ddafd0>"
            ]
          },
          "metadata": {
            "tags": []
          },
          "execution_count": 151
        }
      ]
    },
    {
      "cell_type": "code",
      "metadata": {
        "id": "vNdhvJTbWCL2",
        "colab_type": "code",
        "outputId": "9215b1a8-c0b1-413d-ea62-962f88f9b2d2",
        "colab": {
          "base_uri": "https://localhost:8080/",
          "height": 54
        }
      },
      "source": [
        "test_loss, test_acc = model.evaluate(x, y)\n",
        "print(f'Test accuracy: {test_acc}')"
      ],
      "execution_count": 0,
      "outputs": [
        {
          "output_type": "stream",
          "text": [
            "1000/1000 [==============================] - 0s 168us/sample - loss: 0.6934 - acc: 0.5000\n",
            "Test accuracy: 0.5\n"
          ],
          "name": "stdout"
        }
      ]
    },
    {
      "cell_type": "code",
      "metadata": {
        "id": "7lC-rhEAPFqT",
        "colab_type": "code",
        "outputId": "417187da-3a18-4c28-ef0f-c8a5aaf3aeb1",
        "colab": {
          "base_uri": "https://localhost:8080/",
          "height": 35
        }
      },
      "source": [
        "model.predict(np.array([[1., 0.]]))"
      ],
      "execution_count": 0,
      "outputs": [
        {
          "output_type": "execute_result",
          "data": {
            "text/plain": [
              "array([[0.02420473, 0.9772031 ]], dtype=float32)"
            ]
          },
          "metadata": {
            "tags": []
          },
          "execution_count": 154
        }
      ]
    },
    {
      "cell_type": "code",
      "metadata": {
        "id": "8JPb7AnHHLvf",
        "colab_type": "code",
        "colab": {}
      },
      "source": [
        "model.predict(np.array([[1., 1.]]))"
      ],
      "execution_count": 0,
      "outputs": []
    },
    {
      "cell_type": "markdown",
      "metadata": {
        "id": "kOJxqg0rap-N",
        "colab_type": "text"
      },
      "source": [
        "### pytorch"
      ]
    },
    {
      "cell_type": "code",
      "metadata": {
        "id": "8Z0neYV5dF-G",
        "colab_type": "code",
        "colab": {}
      },
      "source": [
        "import torch\n",
        "import torch.utils.data as utils\n",
        "\n",
        "\n",
        "tensor_x = torch.stack([torch.Tensor(i) for i in x]) # transform to torch tensors\n",
        "tensor_y = torch.stack([torch.Tensor(i) for i in y])"
      ],
      "execution_count": 0,
      "outputs": []
    },
    {
      "cell_type": "code",
      "metadata": {
        "id": "ZVhgey5Dasl_",
        "colab_type": "code",
        "outputId": "8bd3e708-69fd-4a98-8e08-63737026e306",
        "colab": {
          "base_uri": "https://localhost:8080/",
          "height": 201
        }
      },
      "source": [
        "# N is batch size; D_in is input dimension;\n",
        "# H is hidden dimension; D_out is output dimension.\n",
        "N, D_in, H, D_out = 100, 2, 100, 2\n",
        "\n",
        "model = torch.nn.Sequential(\n",
        "    torch.nn.Linear(D_in, H),\n",
        "    torch.nn.ReLU(),\n",
        "    torch.nn.Linear(H, D_out),\n",
        "    torch.nn.Sigmoid()\n",
        ")\n",
        "\n",
        "loss_fn = torch.nn.BCELoss(reduction='mean')\n",
        "\n",
        "learning_rate = 1e-2\n",
        "for t in range(5000):\n",
        "    y_pred = model(tensor_x)\n",
        "    loss = loss_fn(y_pred, tensor_y)\n",
        "    if t % 500 == 99:\n",
        "        print(t, loss.item())\n",
        "\n",
        "    model.zero_grad()\n",
        "    loss.backward()\n",
        "\n",
        "    with torch.no_grad():\n",
        "        for param in model.parameters():\n",
        "            param -= learning_rate * param.grad"
      ],
      "execution_count": 0,
      "outputs": [
        {
          "output_type": "stream",
          "text": [
            "99 0.685459554195404\n",
            "599 0.5556831359863281\n",
            "1099 0.4157051742076874\n",
            "1599 0.2944568693637848\n",
            "2099 0.2067367434501648\n",
            "2599 0.14891721308231354\n",
            "3099 0.11087173968553543\n",
            "3599 0.08542167395353317\n",
            "4099 0.06796254962682724\n",
            "4599 0.05560906231403351\n"
          ],
          "name": "stdout"
        }
      ]
    },
    {
      "cell_type": "code",
      "metadata": {
        "id": "MG5iQ3UCBKPK",
        "colab_type": "code",
        "outputId": "88fb47b8-9f36-44a8-eb61-d55356218dbe",
        "colab": {
          "base_uri": "https://localhost:8080/",
          "height": 35
        }
      },
      "source": [
        "model(torch.tensor([1.,0.]))"
      ],
      "execution_count": 0,
      "outputs": [
        {
          "output_type": "execute_result",
          "data": {
            "text/plain": [
              "tensor([0.0453, 0.9557], grad_fn=<SigmoidBackward>)"
            ]
          },
          "metadata": {
            "tags": []
          },
          "execution_count": 88
        }
      ]
    },
    {
      "cell_type": "code",
      "metadata": {
        "id": "UxyLVwG4arPf",
        "colab_type": "code",
        "outputId": "bd3db051-fb46-4152-d507-36204d7dc6ac",
        "colab": {
          "base_uri": "https://localhost:8080/",
          "height": 35
        }
      },
      "source": [
        "model(torch.tensor([1.,1.]))"
      ],
      "execution_count": 0,
      "outputs": [
        {
          "output_type": "execute_result",
          "data": {
            "text/plain": [
              "tensor([0.9484, 0.0507], grad_fn=<SigmoidBackward>)"
            ]
          },
          "metadata": {
            "tags": []
          },
          "execution_count": 87
        }
      ]
    }
  ]
}